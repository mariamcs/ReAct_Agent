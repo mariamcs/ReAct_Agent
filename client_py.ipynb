{
  "nbformat": 4,
  "nbformat_minor": 0,
  "metadata": {
    "colab": {
      "provenance": [],
      "authorship_tag": "ABX9TyNEYah8bFkjrOJh/42vE9iK",
      "include_colab_link": true
    },
    "kernelspec": {
      "name": "python3",
      "display_name": "Python 3"
    },
    "language_info": {
      "name": "python"
    }
  },
  "cells": [
    {
      "cell_type": "markdown",
      "metadata": {
        "id": "view-in-github",
        "colab_type": "text"
      },
      "source": [
        "<a href=\"https://colab.research.google.com/github/mariamcs/ReAct_Agent/blob/main/client_py.ipynb\" target=\"_parent\"><img src=\"https://colab.research.google.com/assets/colab-badge.svg\" alt=\"Open In Colab\"/></a>"
      ]
    },
    {
      "cell_type": "code",
      "execution_count": null,
      "metadata": {
        "id": "GGC5Qg2oQ3DI"
      },
      "outputs": [],
      "source": [
        "def calculate_macros(weight_lbs, height_in, age, gender, activity_level, goal):\n",
        "    # Basal Metabolic Rate (Mifflin-St Jeor Equation)\n",
        "    if gender.lower() == \"male\":\n",
        "        bmr = 66 + (6.23 * weight_lbs) + (12.7 * height_in) - (6.8 * age)\n",
        "    else:\n",
        "        bmr = 655 + (4.35 * weight_lbs) + (4.7 * height_in) - (4.7 * age)\n",
        "\n",
        "    # Activity factor\n",
        "    activity_factors = {\n",
        "        \"sedentary\": 1.2,\n",
        "        \"light\": 1.375,\n",
        "        \"moderate\": 1.55,\n",
        "        \"active\": 1.725,\n",
        "        \"very active\": 1.9\n",
        "    }\n",
        "    tdee = bmr * activity_factors.get(activity_level.lower(), 1.2)\n",
        "\n",
        "    # Goal adjustment\n",
        "    if goal == \"fat loss\":\n",
        "        calories = tdee - 500\n",
        "    elif goal == \"muscle gain\":\n",
        "        calories = tdee + 250\n",
        "    else:  # maintenance\n",
        "        calories = tdee\n",
        "\n",
        "    # Macros\n",
        "    protein_g = 1.2 * weight_lbs  # in grams\n",
        "    fat_g = (0.25 * calories) / 9\n",
        "    carbs_g = (calories - (protein_g * 4 + fat_g * 9)) / 4\n",
        "\n",
        "    return {\n",
        "        \"calories\": round(calories),\n",
        "        \"protein\": round(protein_g),\n",
        "        \"fat\": round(fat_g),\n",
        "        \"carbs\": round(carbs_g)\n",
        "    }\n",
        "\n",
        "\n",
        "# Example usage\n",
        "if __name__ == \"__main__\":\n",
        "    client_input = {\n",
        "        \"weight_lbs\": 150,\n",
        "        \"height_in\": 65,\n",
        "        \"age\": 30,\n",
        "        \"gender\": \"female\",\n",
        "        \"activity_level\": \"moderate\",\n",
        "        \"goal\": \"fat loss\"\n",
        "    }\n",
        "\n",
        "    macros = calculate_macros(**client_input)\n",
        "    print(\"Target Macros:\", macros)\n"
      ]
    }
  ]
}